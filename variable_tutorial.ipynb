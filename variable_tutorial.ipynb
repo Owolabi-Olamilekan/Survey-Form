{
  "nbformat": 4,
  "nbformat_minor": 0,
  "metadata": {
    "colab": {
      "provenance": [],
      "authorship_tag": "ABX9TyMVOFMN0DNzxkzUaQ5x7jmI",
      "include_colab_link": true
    },
    "kernelspec": {
      "name": "python3",
      "display_name": "Python 3"
    },
    "language_info": {
      "name": "python"
    }
  },
  "cells": [
    {
      "cell_type": "markdown",
      "metadata": {
        "id": "view-in-github",
        "colab_type": "text"
      },
      "source": [
        "<a href=\"https://colab.research.google.com/github/Owolabi-Olamilekan/Survey-Form/blob/main/variable_tutorial.ipynb\" target=\"_parent\"><img src=\"https://colab.research.google.com/assets/colab-badge.svg\" alt=\"Open In Colab\"/></a>"
      ]
    },
    {
      "cell_type": "markdown",
      "source": [
        "Varriabe Comparator\n",
        "\n",
        "==\n",
        "!=\n",
        ">="
      ],
      "metadata": {
        "id": "Fb4ktfRUcp_x"
      }
    },
    {
      "cell_type": "code",
      "execution_count": 1,
      "metadata": {
        "id": "VRAOAq2YcokQ"
      },
      "outputs": [],
      "source": [
        "my_faavorite_number = 4\n",
        "my_least_favorite_number = 2\n",
        "a_neutral_number = 5\n"
      ]
    },
    {
      "cell_type": "code",
      "source": [
        "my_faavorite_number == my_least_favorite_number"
      ],
      "metadata": {
        "id": "gmmtHGzjc8WP"
      },
      "execution_count": null,
      "outputs": []
    },
    {
      "cell_type": "markdown",
      "source": [
        "Variables\n",
        "\n",
        "Intergers: represent positive or negative whole numbers, from negative infinity to positive infinity. Note that **integers should not include decimal points. **\n",
        "\n",
        "Float\n",
        "Floats (or floating-point numbers) are numbers with a decimal point. There are no limits on the value or the number of digits before or after the decimal point.\n",
        "Boolean\n",
        "Booleans represent one of 2 values: True and False. Booleans have the type bool. Boolean Values In programming you often need to know if an expression is True or False. You can evaluate any expression in Python, and get one of two answers, True or False.\n",
        "List\n",
        "A list in Python is an ordered collection of values. Lists can hold values of different data types and support operations to add, remove, and change values. Lists have the type list.\n",
        "To create a list, enclose a sequence of values within square brackets [ ]\n",
        "String\n",
        "A string is used to represent text (a string of characters) in Python. Strings must be surrounded using quotations (either the single quote ' or the double quote \"). Strings have the type string.\n",
        "\n",
        "None\n",
        "The None type includes a single value None, used to indicate the absence of a value. None has the type NoneType. It is often used to declare a variable whose value may be assigned later.\n",
        "\n",
        "DICTIONARIES\n",
        "Dictionary in Python is a collection of keys values, used to store data values like a map, which, unlike other data types which hold only a single value as an element. Its surrounded by curly braces\n",
        "\n",
        "TUPLE\n",
        "A tuple is an ordered collection of values, similar to a list. However, it is not possible to add, remove, or modify values in a tuple. A tuple is created by enclosing values within parentheses ( and ), separated by commas."
      ],
      "metadata": {
        "id": "cvVuCz3keL39"
      }
    },
    {
      "cell_type": "code",
      "source": [
        "current_year = -2023\n",
        "type (current_year)"
      ],
      "metadata": {
        "colab": {
          "base_uri": "https://localhost:8080/"
        },
        "id": "IQ6A6uHHdW_K",
        "outputId": "08df3ccd-5d7b-43e6-cd9e-46240b32560b"
      },
      "execution_count": 10,
      "outputs": [
        {
          "output_type": "execute_result",
          "data": {
            "text/plain": [
              "int"
            ]
          },
          "metadata": {},
          "execution_count": 10
        }
      ]
    },
    {
      "cell_type": "code",
      "source": [
        "pi = 3.1467478\n",
        "type (pi)"
      ],
      "metadata": {
        "colab": {
          "base_uri": "https://localhost:8080/"
        },
        "id": "k_tAq4gWe5Ji",
        "outputId": "7e4a3781-8837-43da-a7ae-4f2c1f8187c9"
      },
      "execution_count": 11,
      "outputs": [
        {
          "output_type": "execute_result",
          "data": {
            "text/plain": [
              "float"
            ]
          },
          "metadata": {},
          "execution_count": 11
        }
      ]
    },
    {
      "cell_type": "code",
      "source": [
        "today = \"femi\"\n",
        "\n",
        "type(today)"
      ],
      "metadata": {
        "colab": {
          "base_uri": "https://localhost:8080/"
        },
        "id": "nMyK_Hp_g0Oh",
        "outputId": "4c5ba57b-839e-47ce-d19c-7a6b7587dcee"
      },
      "execution_count": 12,
      "outputs": [
        {
          "output_type": "execute_result",
          "data": {
            "text/plain": [
              "str"
            ]
          },
          "metadata": {},
          "execution_count": 12
        }
      ]
    },
    {
      "cell_type": "code",
      "source": [
        "today[3]"
      ],
      "metadata": {
        "colab": {
          "base_uri": "https://localhost:8080/",
          "height": 35
        },
        "id": "Pnb8McLXmP3F",
        "outputId": "250d02dd-9a56-42c7-fb76-0d507f8c8c6f"
      },
      "execution_count": 13,
      "outputs": [
        {
          "output_type": "execute_result",
          "data": {
            "text/plain": [
              "'i'"
            ],
            "application/vnd.google.colaboratory.intrinsic+json": {
              "type": "string"
            }
          },
          "metadata": {},
          "execution_count": 13
        }
      ]
    },
    {
      "cell_type": "code",
      "source": [
        "len(today)"
      ],
      "metadata": {
        "colab": {
          "base_uri": "https://localhost:8080/"
        },
        "id": "hRMDiiOBmVBM",
        "outputId": "cabbdd20-1f5f-4ec6-ee44-b6d386b2e91d"
      },
      "execution_count": 14,
      "outputs": [
        {
          "output_type": "execute_result",
          "data": {
            "text/plain": [
              "4"
            ]
          },
          "metadata": {},
          "execution_count": 14
        }
      ]
    },
    {
      "cell_type": "code",
      "source": [
        "a_list = [23,\"monday\",56.2]\n",
        "a_list"
      ],
      "metadata": {
        "colab": {
          "base_uri": "https://localhost:8080/"
        },
        "id": "a89zUOWtnBEq",
        "outputId": "b80294fe-4c3d-4711-df72-967a0a57db97"
      },
      "execution_count": 24,
      "outputs": [
        {
          "output_type": "execute_result",
          "data": {
            "text/plain": [
              "[23, 'monday', 56.2]"
            ]
          },
          "metadata": {},
          "execution_count": 24
        }
      ]
    },
    {
      "cell_type": "code",
      "source": [
        "a_list[0]"
      ],
      "metadata": {
        "colab": {
          "base_uri": "https://localhost:8080/"
        },
        "id": "cy-BZfafosV2",
        "outputId": "ce6afad0-0a7e-4621-ae4c-8dad1e8c2762"
      },
      "execution_count": 25,
      "outputs": [
        {
          "output_type": "execute_result",
          "data": {
            "text/plain": [
              "23"
            ]
          },
          "metadata": {},
          "execution_count": 25
        }
      ]
    },
    {
      "cell_type": "code",
      "source": [],
      "metadata": {
        "id": "Q9FsEZtrqAEk"
      },
      "execution_count": null,
      "outputs": []
    }
  ]
}